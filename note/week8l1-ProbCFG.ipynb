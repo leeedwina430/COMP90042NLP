{
 "cells": [
  {
   "cell_type": "markdown",
   "metadata": {},
   "source": [
    "# Probabilistic Context-Free Grammar"
   ]
  },
  {
   "cell_type": "markdown",
   "metadata": {},
   "source": [
    "## Basics of PCFGs (Probabilistic CFGs)\n",
    "Symbol set: terminals, non-terminal\n",
    "\n",
    "Production rules: LHS non-terminal -> ordered list of RHS symbols\n",
    "\n",
    "**Store a Probability** with each production; can be regarded as **Conditional**\n",
    "\n",
    "$$P(LHS\\rightarrow RHS)\\approx P(RHS|LHS)$$\n",
    "\n",
    "Therefore\n",
    "1. must be positive values, between 0 and 1\n",
    "2. must sum to one for given LHS\n",
    "\n",
    "$$\\sum_x P(NN\\rightarrow x)=1$$\n",
    "\n",
    "## Stochastic Generation with PCFGs\n",
    "1. Start with S, the sentence symbol\n",
    "2. Choose a rule with S as the LHS\n",
    "- **Randomly select a RHS** according to P(RHS | LHS) (e.g., S → VP)\n",
    "- Apply this rule, e.g., substitute VP for S\n",
    "3. Repeat step 2 for each non-terminal in the string \n",
    "(here, VP) \n",
    "4. Stop when no non-terminals remain\n",
    "Gives us a tree, as before, with a sentence as the yield\n",
    "\n",
    "Just compute the probability of a tree through decomposing it into probs of each production\n",
    "\n"
   ]
  },
  {
   "cell_type": "markdown",
   "metadata": {},
   "source": [
    "## PCFG parsing\n",
    "CYK for unweighted grammars (CFGs) finds all possible trees; PCFG only finds one!!\n",
    "\n",
    "Convert grammar to Chomsky Normal Form (CNF)\n",
    "\n",
    "e.g. VP → Verb NP NP [0.10] => VP → Verb X [0.10], X → NP NP [1.0]\n",
    "\n",
    "To get parse(s), follow pointers back for each match Convert back from CNF by removing new non-terminals\n",
    "\n",
    "\n",
    "\n",
    "code!!!!!\n",
    "\n",
    "\n",
    "\n",
    "why!????\n",
    "only common splits???\n",
    "\n"
   ]
  },
  {
   "cell_type": "markdown",
   "metadata": {},
   "source": [
    "## Limitations of CFG\n",
    "\n",
    "### Problem1: Poor Independence Assumptions\n",
    "Rewrite decisions made independently, whereas inter-dependence is often needed to apture global structure\n",
    "\n",
    "Solution: add a condition to denote whether NP is a subject or object\n",
    "\n",
    "#### Solution: Parent Conditioning\n",
    "Make non-terminals more explicit by incorporating parent symbol into each symbol\n",
    "\n",
    "- NP^S represents subject position (left)\n",
    "- NP^VP denotes object position (right)\n",
    "\n",
    "\n",
    "### Problem2: Lack of Lexical Conditioning\n",
    "Lack of sensitivity to words in tree; Prepositional phrase (PP) attachment ambiguity\n",
    "\n",
    "\n",
    "#### Solution: Head Lexicalisation\n",
    "Record head word with parent symbols (head word: the most salient child of a onstituent, usually the noun in a NP, verb in a VP etc)\n",
    "\n",
    "Pro:\n",
    "\n",
    "Incorporate head words into productions, to capture the most important links between words; Captures correlations between head words of phrases\n",
    "\n",
    "Con:\n",
    "\n",
    "BUT Grammar symbol inventory expands massively! (Many of the productions too specific, rarely seen; Learning more involved to avoid sparsity problems)\n",
    "\n",
    "\n"
   ]
  }
 ],
 "metadata": {
  "kernelspec": {
   "display_name": "Python 3.8.6 64-bit",
   "language": "python",
   "name": "python3"
  },
  "language_info": {
   "name": "python",
   "version": "3.8.6"
  },
  "orig_nbformat": 4,
  "vscode": {
   "interpreter": {
    "hash": "c8f9177a0acce8018d23d7772672ff7f2c1807cf103258a4b51e26a443b2e37b"
   }
  }
 },
 "nbformat": 4,
 "nbformat_minor": 2
}
