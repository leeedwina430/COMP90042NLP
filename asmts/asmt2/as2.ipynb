{
 "cells": [
  {
   "cell_type": "markdown",
   "metadata": {},
   "source": [
    "# Assignment 2: Language Modelling in Hangman"
   ]
  },
  {
   "cell_type": "markdown",
   "metadata": {},
   "source": [
    "# Overview\n",
    "\n",
    "In this homework, you'll be creating an 'artificial intelligence' player for the classic Hangman word guessing game. You will need to implement several different automatic strategies based on <font color=pink>character-level n-gram language models</font>. Your objective is to create an automatic player which makes the fewest mistakes."
   ]
  },
  {
   "cell_type": "markdown",
   "metadata": {},
   "source": [
    "# The Hangman Game (7 marks)"
   ]
  },
  {
   "cell_type": "markdown",
   "metadata": {},
   "source": [
    "**Instructions**: The <a href=\"https://en.wikipedia.org/wiki/Hangman_(game)\">Hangman game</a> is a simple game whereby one person thinks of a word, which they keep secret from their opponent, who tries to guess the word one character at a time. The game ends when the opponent makes more than a fixed number of incorrect guesses, or they figure out the secret word before then (in which case they *win*). \n",
    "\n",
    "Here's a simple version of the game. **No implementation is needed.**"
   ]
  },
  {
   "cell_type": "code",
   "execution_count": 20,
   "metadata": {},
   "outputs": [],
   "source": [
    "def hangman(secret_word, guesser, max_mistakes=8, verbose=True, **guesser_args):\n",
    "    \"\"\"\n",
    "        This function plays the hangman game with the provided guesser and returns the number of incorrect guesses. \n",
    "        \n",
    "        secret_word: a string of lower-case alphabetic characters, i.e., the answer to the game\n",
    "        guesser: a function which guesses the next character at each stage in the game\n",
    "            The function takes a:\n",
    "                mask (list): what is known of the word, as a string with _ denoting an unknown character\n",
    "                guessed: the set of characters which already been guessed in the game\n",
    "                guesser_args: additional (optional) keyword arguments, i.e., name=value\n",
    "        max_mistakes: limit on length of game, in terms of number of allowed mistakes\n",
    "        verbose: silent or verbose diagnostic prints\n",
    "        guesser_args: keyword arguments to pass directly to the guesser function\n",
    "    \"\"\"\n",
    "    secret_word = secret_word.lower()\n",
    "    mask = ['_'] * len(secret_word)\n",
    "    guessed = set() # NOTE: guessed is a set\n",
    "    if verbose:\n",
    "        print(\"Starting hangman game. Target is\", ' '.join(mask), 'length', len(secret_word))\n",
    "    \n",
    "    mistakes = 0\n",
    "    while mistakes < max_mistakes:\n",
    "        if verbose:\n",
    "            print(\"You have\", (max_mistakes-mistakes), \"attempts remaining.\")\n",
    "        guess = guesser(mask, guessed, **guesser_args)\n",
    "\n",
    "        if verbose:\n",
    "            print('Guess is', guess)\n",
    "        if guess in guessed:\n",
    "            if verbose:\n",
    "                print('Already guessed this before.')  \n",
    "            mistakes += 1\n",
    "        else:\n",
    "            guessed.add(guess)\n",
    "            if guess in secret_word and len(guess) == 1:\n",
    "                for i, c in enumerate(secret_word): \n",
    "                    if c == guess:\n",
    "                        mask[i] = c\n",
    "                if verbose:\n",
    "                    print('Good guess:', ' '.join(mask))\n",
    "            else:\n",
    "                if len(guess) != 1:\n",
    "                    print('Please guess with only 1 character.')  \n",
    "                if verbose:\n",
    "                    print('Sorry, try again.')\n",
    "                mistakes += 1\n",
    "                \n",
    "        if '_' not in mask:\n",
    "            if verbose:\n",
    "                print('Congratulations, you won.')\n",
    "            return mistakes\n",
    "        \n",
    "    if verbose:\n",
    "        print('Out of guesses. The word was', secret_word)    \n",
    "    return mistakes"
   ]
  },
  {
   "cell_type": "markdown",
   "metadata": {},
   "source": [
    "Here is a human guesser allowing interactive play."
   ]
  },
  {
   "cell_type": "code",
   "execution_count": 21,
   "metadata": {},
   "outputs": [],
   "source": [
    "def human(mask, guessed, **kwargs):\n",
    "    \"\"\"\n",
    "    This is a simple function for manual play.\n",
    "    \"\"\"\n",
    "    print('\\nEnter your guess:')\n",
    "    return input().lower().strip()"
   ]
  },
  {
   "cell_type": "markdown",
   "metadata": {},
   "source": [
    "If you want to play hangman interactively, please set `interactive` to `True`. When submitting your solution, set to `False` so we can automatically run the whole notebook using `Run All`."
   ]
  },
  {
   "cell_type": "code",
   "execution_count": 22,
   "metadata": {},
   "outputs": [],
   "source": [
    "interactive = False"
   ]
  },
  {
   "cell_type": "markdown",
   "metadata": {},
   "source": [
    "<b>For your testing:</b>\n",
    "\n",
    "You can play the game interactively using the following command:"
   ]
  },
  {
   "cell_type": "code",
   "execution_count": 23,
   "metadata": {},
   "outputs": [],
   "source": [
    "if interactive:\n",
    "    hangman('whatever', human, 8, True)"
   ]
  },
  {
   "cell_type": "markdown",
   "metadata": {
    "collapsed": true
   },
   "source": [
    "### Question 1 (1.0 mark)\n",
    "\n",
    "**Instructions**: We will use the words in NLTK's Brown corpus for training an artificial intelligence guessing algorithm, and for evaluating the quality of the algorithm.\n",
    "\n",
    "Your first task is to \n",
    "1. compute the number of **unique word types** occurring in the Brown corpus, using `nltk.corpus.brown` and the `words` method, and \n",
    "2. select only words that are **entirely comprised of alphabetic characters**. \n",
    "3. You should also **lowercase the words**. \n",
    "4. Finally, randomly shuffle (`numpy.random.shuffle`) this collection of word types, and \n",
    "5. split them into disjoint training and testing sets. The test set should contain 1000 word types, and the rest should be in the  training set. \n",
    "\n",
    "Note that we are intentionally making the hangman game hard, as the AI will need to cope with test words that it has not seen before, hence it will need to learn generalisable patterns of characters to make reasonable predictions.\n",
    "\n",
    "**Task**: Collect all unique word types from the Brown corpus, and produce `training_set` and `test_set`, 2 lists that contain 2 disjointed sets of words. Both `training_set` and `test_set` should be a python `list` (as initialised in the code). `test_set` must contain exactly 1000 word types.\n",
    "\n",
    "**Check**: Use the assertion statements in <b>\"For your testing\"</b> below for the expected output."
   ]
  },
  {
   "cell_type": "code",
   "execution_count": 24,
   "metadata": {},
   "outputs": [
    {
     "name": "stdout",
     "output_type": "stream",
     "text": [
      "Number of word types in test = 1000\n",
      "Number of word types in train = 39234\n"
     ]
    }
   ],
   "source": [
    "import nltk\n",
    "from nltk.corpus import brown\n",
    "import numpy as np\n",
    "\n",
    "# nltk.download('brown')\n",
    "np.random.seed(1)\n",
    "\n",
    "# training_set stores the rest word types for training\n",
    "training_set = []\n",
    "# test_set stores 1000 word types for testing\n",
    "test_set = []\n",
    "\n",
    "\n",
    "###\n",
    "# Your answer BEGINS HERE\n",
    "###\n",
    "# 1~3.compute the number of unique word types in Brown use \".words()\"\n",
    "vocab = list(set(w.lower() for w in brown.words() if w.isalpha()))\n",
    "\n",
    "# 4~5.shuffle the word types and divide them into test & training sets\n",
    "np.random.shuffle(vocab)\n",
    "test_set = vocab[:1000]\n",
    "training_set = vocab[1000:]\n",
    "###\n",
    "# Your answer ENDS HERE\n",
    "###\n",
    "\n",
    "print(\"Number of word types in test =\", len(test_set))\n",
    "print(\"Number of word types in train =\", len(training_set))"
   ]
  },
  {
   "cell_type": "markdown",
   "metadata": {},
   "source": [
    "<b>For your testing:</b>"
   ]
  },
  {
   "cell_type": "code",
   "execution_count": 25,
   "metadata": {},
   "outputs": [],
   "source": [
    "assert(len(training_set) > 35000 and len(training_set) < 45000)\n",
    "assert(len(test_set) == 1000)"
   ]
  },
  {
   "cell_type": "markdown",
   "metadata": {},
   "source": [
    "**Play the game**:\n",
    "\n",
    "Let's see how good you are at this game! Try to guess a random word from the test set. It is surprisingly difficult (and addictive)! Don't forget to set `interactive = True`."
   ]
  },
  {
   "cell_type": "code",
   "execution_count": 26,
   "metadata": {},
   "outputs": [],
   "source": [
    "#play hangman using random words from test set\n",
    "if interactive:\n",
    "    hangman(np.random.choice(test_set), human, 8, True)"
   ]
  },
  {
   "cell_type": "markdown",
   "metadata": {},
   "source": [
    "### Question 2 (1.0 mark)\n",
    "\n",
    "**Instructions**: To set a baseline, your first AI attempt will be a trivial **random method**. For this you should implement a guessing method, similar to the `human` method above, i.e., using the same input arguments and returning a character. Your method should <font color=pink>randomly choose a character from the range `a ... z`</font> after excluding the characters that have already been guessed in the current game (all subsequent AI approaches should also exclude previous guesses).\n",
    "\n",
    "To help you measure the performance of this (and later) guesser, a `test_guesser` method that takes a guesser and measures the average number of incorrect guesses made over all the words in the `test` is provided to you. \n",
    "\n",
    "**Task**: Complete the `random_guesser` method. It should return a random character from the English alphabets.\n",
    "\n",
    "**Check**: Use the assertion statements in <b>\"For your testing\"</b> below for the expected output."
   ]
  },
  {
   "cell_type": "code",
   "execution_count": 27,
   "metadata": {},
   "outputs": [],
   "source": [
    "def test_guesser(guesser, test):\n",
    "    \"\"\"\n",
    "        This function takes a guesser and measures the average number of incorrect \n",
    "        guesses made over all the words in the test_set. \n",
    "    \"\"\"\n",
    "    total = 0\n",
    "    for word in test:\n",
    "        total += hangman(word, guesser, 26, False)\n",
    "    return total / float(len(test))"
   ]
  },
  {
   "cell_type": "code",
   "execution_count": 28,
   "metadata": {},
   "outputs": [
    {
     "name": "stdout",
     "output_type": "stream",
     "text": [
      "Guessing word = autonomy\n",
      "Number of mistakes made by the random guesser = 17\n",
      "\n",
      "Testing the random guesser using every word in test set\n",
      "Average number of incorrect guesses:  16.632\n"
     ]
    }
   ],
   "source": [
    "def random_guesser(mask, guessed, **kwargs):\n",
    "    '''\n",
    "       randomly choose a character from [a-z] out of guessed words; \n",
    "       guessed is a set\n",
    "    '''\n",
    "    ###\n",
    "    # Your answer BEGINS HERE\n",
    "    ###\n",
    "    import string\n",
    "    return np.random.choice(list(set(string.ascii_lowercase) - guessed))\n",
    "    ###\n",
    "    # Your answer ENDS HERE\n",
    "    ###\n",
    "\n",
    "random_word = np.random.choice(test_set)\n",
    "print(\"Guessing word =\", random_word)\n",
    "print(\"Number of mistakes made by the random guesser =\", hangman(random_word, random_guesser, 26, False))\n",
    "# print(\"Number of mistakes made by the random guesser =\", hangman(random_word, random_guesser, 26, True))\n",
    "\n",
    "result = test_guesser(random_guesser, test_set)\n",
    "print(\"\\nTesting the random guesser using every word in test set\")\n",
    "print(\"Average number of incorrect guesses: \", result)"
   ]
  },
  {
   "cell_type": "markdown",
   "metadata": {},
   "source": [
    "<b>For your testing:</b>"
   ]
  },
  {
   "cell_type": "code",
   "execution_count": 29,
   "metadata": {},
   "outputs": [],
   "source": [
    "assert(result > 10 and result < 20)"
   ]
  },
  {
   "cell_type": "markdown",
   "metadata": {},
   "source": [
    "### Question 3 (1.0 mark)\n",
    "\n",
    "**Instructions:** As your first real AI, you should train a **unigram language model** over the training set. This requires you to find the frequencies of characters over all training words. Using this model, you should write a guesser that returns the character with the highest probability. Remember to exclude already guessed characters. \n",
    "\n",
    "**Task**: Collect the frequencies of characters and store them in `unigram_counts` (use the first answer space). Complete the `unigram_guesser` method. Note that it takes `unigram_counts` as an additional argument (use the second answer space).\n",
    "\n",
    "**Check**: Use the assertion statements in <b>\"For your testing\"</b> below for the expected output."
   ]
  },
  {
   "cell_type": "code",
   "execution_count": 30,
   "metadata": {},
   "outputs": [
    {
     "name": "stdout",
     "output_type": "stream",
     "text": [
      "Testing the unigram guesser using every word in test set\n",
      "Average number of incorrect guesses:  10.169\n"
     ]
    }
   ],
   "source": [
    "unigram_counts = None\n",
    "\n",
    "###\n",
    "# Your answer BEGINS HERE\n",
    "###\n",
    "from collections import Counter\n",
    "\n",
    "all_chars = ''.join(training_set)\n",
    "unigram_counts = Counter(all_chars)\n",
    "###\n",
    "# Your answer ENDS HERE\n",
    "###\n",
    "\n",
    "def unigram_guesser(mask, guessed, unigram_counts=unigram_counts):\n",
    "\n",
    "    ###\n",
    "    # Your answer BEGINS HERE\n",
    "    ###\n",
    "    from copy import deepcopy\n",
    "    copy_unigram_counts = deepcopy(unigram_counts)\n",
    "\n",
    "    for char in guessed:\n",
    "        copy_unigram_counts.pop(char)\n",
    "    \n",
    "    return copy_unigram_counts.most_common()[0][0]\n",
    "    ###\n",
    "    # Your answer ENDS HERE\n",
    "    ###\n",
    "\n",
    "result = test_guesser(unigram_guesser, test_set)\n",
    "print(\"Testing the unigram guesser using every word in test set\")\n",
    "print(\"Average number of incorrect guesses: \", result)"
   ]
  },
  {
   "cell_type": "markdown",
   "metadata": {},
   "source": [
    "<b>For your testing:</b>"
   ]
  },
  {
   "cell_type": "code",
   "execution_count": 31,
   "metadata": {},
   "outputs": [],
   "source": [
    "assert(result > 5 and result < 15)"
   ]
  },
  {
   "cell_type": "markdown",
   "metadata": {},
   "source": [
    "### Question 4 (1.0 mark)\n",
    "\n",
    "**Instructions:** The length of the secret word is an important clue that we might exploit. Different lengths tend to have different distributions over characters, e.g., short words are less likely to have suffixes or prefixes. You should incorporate this idea by conditioning the unigram model on the length of the secret word, i.e.,  having a **different unigram model for each length**. You will need to be a little careful at test time, to be robust to the situation that you encounter <font color=pink>a word length that you didn't see in training. In such a case, your method should behave like the previous</font> `unigram_guesser` in Question 3 (i.e., it guesses characters based on unigram frequencies, unconditioned by the word length). (<font color=pink>like Backoff</font>)\n",
    "\n",
    "**Task**: Collect the frequencies of characters conditioned on the word length and store them in `unigram_counts_by_length` (use the first answer space). Complete the `unigram_length_guesser` method (use the second answer space).\n",
    "\n",
    "**Check**: Use the assertion statements in <b>\"For your testing\"</b> below for the expected output."
   ]
  },
  {
   "cell_type": "code",
   "execution_count": 32,
   "metadata": {
    "scrolled": false
   },
   "outputs": [
    {
     "name": "stdout",
     "output_type": "stream",
     "text": [
      "Testing the length-conditioned unigram guesser using every word in test set\n",
      "Average number of incorrect guesses:  10.134\n"
     ]
    }
   ],
   "source": [
    "unigram_counts_by_length = None\n",
    "\n",
    "###\n",
    "# Your answer BEGINS HERE\n",
    "###\n",
    "unigram_counts_by_length = dict()\n",
    "\n",
    "for word in training_set:\n",
    "    length = len(word)\n",
    "    if not unigram_counts_by_length.get(length,None):\n",
    "        unigram_counts_by_length[length] = Counter(word)\n",
    "    else:\n",
    "        unigram_counts_by_length[length].update(word)\n",
    "###\n",
    "# Your answer ENDS HERE\n",
    "###\n",
    "\n",
    "def unigram_length_guesser(mask, guessed, \n",
    "                           unigram_counts_by_length=unigram_counts_by_length, \n",
    "                           unigram_counts=unigram_counts):\n",
    "    ###\n",
    "    # Your answer BEGINS HERE\n",
    "    ###\n",
    "    length = len(mask)\n",
    "    if unigram_counts_by_length.get(length,None) and \\\n",
    "            len(unigram_counts_by_length[length]) > len(guessed):\n",
    "        counts = unigram_counts_by_length[length]\n",
    "    else:\n",
    "        counts = unigram_counts\n",
    "\n",
    "    from copy import deepcopy\n",
    "    copy_counts = deepcopy(counts)\n",
    "\n",
    "    for char in guessed:\n",
    "        copy_counts.pop(char)\n",
    "\n",
    "    return copy_counts.most_common()[0][0]\n",
    "    ###\n",
    "    # Your answer ENDS HERE\n",
    "    ###\n",
    "\n",
    "result = test_guesser(unigram_length_guesser, test_set)\n",
    "print(\"Testing the length-conditioned unigram guesser using every word in test set\")\n",
    "print(\"Average number of incorrect guesses: \", result)"
   ]
  },
  {
   "cell_type": "markdown",
   "metadata": {},
   "source": [
    "<b>For your testing:</b>"
   ]
  },
  {
   "cell_type": "code",
   "execution_count": 33,
   "metadata": {},
   "outputs": [],
   "source": [
    "assert(result > 5 and result < 15)"
   ]
  },
  {
   "cell_type": "markdown",
   "metadata": {},
   "source": [
    "### Question 5 (1.0 mark)\n",
    "\n",
    "**Instructions:** Now for the next challenge, you'll build a **bigram language model** over characters. The order of characters is obviously important, yet this wasn't incorporated in any of the above models. Knowing that the word has the sequence `n _ s s` is a pretty strong clue that the missing character might be `e`. Similarly the distribution over characters that start or end a word are highly biased (e.g., toward common prefixes and suffixes, like *un-*, *-ed* and *-ly*).\n",
    "\n",
    "The task here is to develop a bigram language model over characters, and train it over the training words. Remember to be careful when handling the start of each word properly, e.g., by padding with a special starting symbol such as `$`. Do we also need a special ending symbol? That's for you to decide.\n",
    "\n",
    "Your bigram guesser should apply your language model to each blank position in the secret word by using its left context character. For example, in the partial word `e _ c _ b _ _` we know the left context for the first three blanks, but have no known left context for the last blank. <font color=pink>In the case for the last blank, you should revert to using a unigram language model</font> (since there's no context for us to use the bigram model). You should <font color=pink>sum up the probability distribution (over all alphabets from <i>a</i> to <i>z</i>) for the 4 blanks</font>, and select the alphabet with the highest probability that hasn't been guessed.\n",
    "\n",
    "**Note**:\n",
    "- When backing-off to the unigram language model, you **must use the vanilla unigram language model that you have built in Q3**. <font color=pink>Do not use the length-based unigram language model, or any fancy variant, or you will lose marks.</font>\n",
    "- You should build a **standard bigram language model**; i.e. do not do anything complicated like a bidirectional bigram language model.\n",
    "\n",
    "**Task**: Collect frequency counts that are necessary for building a bigram language model and store them in bigram_counts; feel free to add new objects if needed (use the first answer space). Complete the `bigram_guesser` method (use the second answer space). Note that the method currently only has one additional argument (`bigram_counts`), but you are free to add additional arguments."
   ]
  },
  {
   "cell_type": "code",
   "execution_count": 34,
   "metadata": {},
   "outputs": [
    {
     "name": "stdout",
     "output_type": "stream",
     "text": [
      "Testing the bigram guesser using every word in test set\n",
      "Average number of incorrect guesses:  8.79\n"
     ]
    }
   ],
   "source": [
    "bigram_counts = None\n",
    "\n",
    "###\n",
    "# Your answer BEGINS HERE\n",
    "###\n",
    "bigram_counts = dict()\n",
    "\n",
    "for word in training_set:\n",
    "    word = '$' + word\n",
    "    for i in range(len(word)-1):\n",
    "        if not bigram_counts.get(word[i], None):\n",
    "            bigram_counts[word[i]] = Counter(word[i+1])\n",
    "        else:\n",
    "            bigram_counts[word[i]][word[i+1]] += 1\n",
    "\n",
    "def getBigramProb(last_word,cur_word):\n",
    "    if last_word=='_' or not bigram_counts.get(last_word, None) \\\n",
    "                      or not bigram_counts[last_word].get(cur_word, None):\n",
    "        return unigram_counts[cur_word] / sum(unigram_counts.values())\n",
    "    else:\n",
    "        return bigram_counts[last_word][cur_word] / \\\n",
    "               sum(bigram_counts[last_word].values())\n",
    "\n",
    "import string\n",
    "###\n",
    "# Your answer ENDS HERE\n",
    "###\n",
    "    \n",
    "\n",
    "def bigram_guesser(mask, guessed, bigram_counts=bigram_counts): \n",
    "    ###\n",
    "    # Your answer BEGINS HERE\n",
    "    ###\n",
    "    '''use simple bigram model, smooth with unigram'''\n",
    "    candidates = list(set(string.ascii_lowercase)-guessed)\n",
    "\n",
    "    char2prob = dict()\n",
    "    for i in range(len(mask)):\n",
    "        if mask[i] == '_':\n",
    "            probs = []\n",
    "            if i==0:\n",
    "                probs = [getBigramProb('$',char) for char in candidates]\n",
    "            else:\n",
    "                probs = [getBigramProb(mask[i-1],char) for char in candidates]\n",
    "\n",
    "            max_ind = np.argmax(probs)\n",
    "            if not char2prob.get(candidates[max_ind], None):\n",
    "                char2prob[candidates[max_ind]] = probs[max_ind]\n",
    "            else:\n",
    "                char2prob[candidates[max_ind]] = char2prob[candidates[max_ind]] \\\n",
    "                                                    + probs[max_ind]\n",
    "\n",
    "    return sorted(char2prob.keys(), key=lambda x: char2prob[x], reverse=True)[0]\n",
    "    ###\n",
    "    # Your answer ENDS HERE\n",
    "    ###\n",
    "\n",
    "\n",
    "\n",
    "result = test_guesser(bigram_guesser, test_set)\n",
    "print(\"Testing the bigram guesser using every word in test set\")\n",
    "print(\"Average number of incorrect guesses: \", result)"
   ]
  },
  {
   "cell_type": "markdown",
   "metadata": {},
   "source": [
    "### Question 6 (1.5 mark)\n",
    "\n",
    "**Instructions:** You should try to develop a more effective AI for hangman. Feel free to engage your creativity here! Possibilities include <font color=pink>better conditioning on the length of the word</font>, <font color=pink>fancier smoothing methods</font>, <font color=pink>ngram models</font> and <font color=pink>bidirectional models</font> (lecture 8). Have fun! \n",
    "\n",
    "You will be marked based on the performance of your AI model, using a pre-made training and test set (created using a secret seed). Let x be the average number of mistakes in the test set, you will score:\n",
    "* 1.5 mark if x < 7.6\n",
    "* 1.0 mark if 7.6 <= x < 8.0\n",
    "* 0.5 mark if 8.0 <= x < 8.5\n",
    "* 0.0 mark if x >= 8.5\n",
    "\n",
    "Note:\n",
    "* When testing your AI model's performance, you may want to consider <font color=pink>trying different training/test splits (using different seeds)</font> to have a better understanding of its performance, as there will be some variance to its performance depending on the training/test split.\n",
    "* Your code must run <font color=pink>under 3 minutes on Codalab</font>; program that runs longer than that will be terminated and you will score 0.\n",
    "\n",
    "**Task** Complete the `my_amazing_ai_guesser` method, which implements a better language model for hangman."
   ]
  },
  {
   "cell_type": "code",
   "execution_count": 35,
   "metadata": {},
   "outputs": [
    {
     "name": "stdout",
     "output_type": "stream",
     "text": [
      "Testing my amazing AI guesser using every word in test set\n",
      "Average number of incorrect guesses:  7.0\n"
     ]
    }
   ],
   "source": [
    "###\n",
    "# Your answer BEGINS HERE\n",
    "###\n",
    "\n",
    "# write my own ngram funciton\n",
    "from itertools import chain, tee\n",
    "from nltk.lm.preprocessing import flatten\n",
    "\n",
    "def ngrams(sequence, n, pad_left=False, pad_right=False,\n",
    "           left_pad_symbol=None, right_pad_symbol=None):\n",
    "     '''return ngram tuples (in lazy iteration style to speed up)'''\n",
    "     sequence = iter(sequence)\n",
    "\n",
    "     # pad the sequende\n",
    "     if pad_left:\n",
    "          sequence = chain((left_pad_symbol, ) * (n-1), sequence)\n",
    "     if pad_right:\n",
    "          sequence = chain(sequence, (right_pad_symbol, ) * (n-1))\n",
    "     \n",
    "     # create n independent iterators, and align them\n",
    "     iterables = tee(sequence, n)\n",
    "     for i, sub_iterable in enumerate(iterables):\n",
    "          for _ in range(i):\n",
    "               next(sub_iterable, None)\n",
    "     \n",
    "     return zip(*iterables)\n",
    "\n",
    "# set seed to fix train / test split\n",
    "cur_seed = 1\n",
    "vocab = list(set(w.lower() for w in brown.words() if w.isalpha()))\n",
    "\n",
    "np.random.seed(cur_seed)\n",
    "np.random.shuffle(vocab)\n",
    "test_set = vocab[:10]\n",
    "training_set = vocab[1000:]\n",
    "n = 3\n",
    "\n",
    "# get n-grams\n",
    "training_set_trigram = flatten([list(ngrams(word,n,pad_left=True,\\\n",
    "                              left_pad_symbol='$')) for word in training_set])\n",
    "training_set_bigram = flatten([list(ngrams(word,n-1,pad_left=True,\\\n",
    "                              left_pad_symbol='$')) for word in training_set])\n",
    "training_set_trigram_inverse = flatten([list(ngrams(word,n,pad_right=True,\\\n",
    "                              right_pad_symbol='&')) for word in training_set])\n",
    "training_set_bigram_inverse = flatten([list(ngrams(word,n-1,pad_right=True,\\\n",
    "                              right_pad_symbol='&')) for word in training_set])\n",
    "\n",
    "# calculate bigram and trigram frequencies\n",
    "bigram_counts = dict()\n",
    "for char0, char1 in training_set_bigram:\n",
    "     if not bigram_counts.get(char0, None):\n",
    "          bigram_counts[char0] = Counter(char1)\n",
    "     else:\n",
    "          bigram_counts[char0][char1] += 1\n",
    "\n",
    "inverse_bigram_counts = dict()\n",
    "for char1, char0 in training_set_bigram_inverse:\n",
    "     if not inverse_bigram_counts.get(char0, None):\n",
    "          inverse_bigram_counts[char0] = Counter(char1)\n",
    "     else:\n",
    "          inverse_bigram_counts[char0][char1] += 1\n",
    "\n",
    "trigram_counts = dict()\n",
    "for char0, char1, char2 in training_set_trigram:\n",
    "     if not trigram_counts.get(char0+' '+char1, None):\n",
    "          trigram_counts[char0+' '+char1] = Counter(char2)\n",
    "     else:\n",
    "          trigram_counts[char0+' '+char1][char2] += 1\n",
    "\n",
    "inverse_trigram_counts = dict()\n",
    "for char2, char1, char0 in training_set_trigram_inverse:\n",
    "     if not inverse_trigram_counts.get(char0+' '+char1, None):\n",
    "          inverse_trigram_counts[char0+' '+char1] = Counter(char2)\n",
    "     else:\n",
    "          inverse_trigram_counts[char0+' '+char1][char2] += 1\n",
    "\n",
    "# calculate smoothing coefficient\n",
    "nbi_vocab = sum([len(bigram_counts[cond]) for cond in bigram_counts])\n",
    "nuni_vocab = sum(unigram_counts.values())\n",
    "\n",
    "# necessary functions for our guesser\n",
    "def getAddOneProb(cond_char, tar_char, counts=bigram_counts,k=1, n=1):\n",
    "     '''add k smoothing for trigram model; perform adding one by default'''\n",
    "     return (counts[cond_char][tar_char] + k) / (sum(counts[cond_char].values()) + k*n)\n",
    "\n",
    "def bidirect_guesser(mask, guessed):\n",
    "     ''' bi-directional trigram, combined with bigram and unigram\n",
    "          A B ?: Use trigram + bigram + unigram;\n",
    "           _ B ?: use bigram + unigram;\n",
    "           A _ ? or _ _ ?: Use unigram\n",
    "     '''\n",
    "     candidates = list(set(string.ascii_lowercase)-guessed)\n",
    "     cur_mask = ['$','$'] + mask + ['&','&']\n",
    "\n",
    "     char2prob = dict()\n",
    "     for i in range(2, len(cur_mask)-2):\n",
    "          if cur_mask[i] == '_':\n",
    "               probs = np.zeros(len(candidates))\n",
    "               if cur_mask[i-1] != '_' and cur_mask[i-2] != '_':\n",
    "                    probs += np.array([getAddOneProb(cur_mask[i-2]+' '+cur_mask[i-1],\\\n",
    "                                        char, trigram_counts, k=1, n=nbi_vocab) \\\n",
    "                                        for char in candidates])\n",
    "               if cur_mask[i+1] != '_' and cur_mask[i+2] != '_':\n",
    "                    probs += np.array([getAddOneProb(cur_mask[i+2]+' '+cur_mask[i+1],\\\n",
    "                                        char, inverse_trigram_counts, k=1, n=nbi_vocab) \\\n",
    "                                        for char in candidates])\n",
    "               if cur_mask[i-1] != '_':\n",
    "                    probs += np.array([getAddOneProb(cur_mask[i-1], char, \\\n",
    "                                        bigram_counts, n=nuni_vocab) \\\n",
    "                                        for char in candidates])\n",
    "               if cur_mask[i+1] != '_':\n",
    "                    probs += np.array([getAddOneProb(cur_mask[i+1], char, \\\n",
    "                                        inverse_bigram_counts, n=nuni_vocab) \\\n",
    "                                        for char in candidates])\n",
    "\n",
    "               if cur_mask[i-1] == '_' and cur_mask[i+1] == '_':\n",
    "                    probs += np.array([(unigram_counts[char]) / nuni_vocab \\\n",
    "                                        for char in candidates])\n",
    "\n",
    "               max_ind = np.argmax(probs)\n",
    "               if not char2prob.get(candidates[max_ind], None):\n",
    "                    char2prob[candidates[max_ind]] = probs[max_ind]\n",
    "               else:\n",
    "                    char2prob[candidates[max_ind]] = char2prob[candidates[max_ind]] \\\n",
    "                                                       + probs[max_ind]\n",
    "\n",
    "     return sorted(char2prob.keys(), key=lambda x: char2prob[x], reverse=True)[0]\n",
    "\n",
    "# try my gussers\n",
    "def my_amazing_ai_guesser(mask, guessed):\n",
    "     return bidirect_guesser(mask, guessed)\n",
    "# ###\n",
    "# # Your answer ENDS HERE\n",
    "# ###\n",
    "\n",
    "result = test_guesser(my_amazing_ai_guesser, test_set)\n",
    "print(\"Testing my amazing AI guesser using every word in test set\")\n",
    "print(\"Average number of incorrect guesses: \", result)"
   ]
  },
  {
   "cell_type": "markdown",
   "metadata": {},
   "source": [
    "### Question 7 (0.5 mark)\n",
    "\n",
    "**Instructions:** Explain your approach and discuss your result below. Please keep your explanation to a short paragraph."
   ]
  },
  {
   "cell_type": "markdown",
   "metadata": {},
   "source": [
    "##### Your answer BEGINS HERE\n",
    "\n",
    "Firstly, we fixed our <font color=pink>seed to 1</font>. We tried bi-directional bigram model, which outperforms the previous guessers (`7.7`). We also tried bi-directional trigram model, resulting in `7.0` incorrect guesses on average. Here we use add one smoothing to deal with unseen trigrams, together with bigram and unigram models for cases where trigram can't work. Surprisingly, if we only use one-directional trigram ceteris paribus, the average number of incorrect guesses is `5.5`.\n",
    "\n",
    "However after changing the <font color=pink>seed from 0 to 9</font>, it turned out that the best performance the bi-directinoal trigram can get is `4.5`, and on average, bi-directional trigram model outperforms valina one-direnctional one, whose best score is `5.5`. \n",
    "\n",
    "To sum up, though train/test split can affect the outcome drastically, overall our bi-directional trigram model has the best performance.\n",
    "\n",
    "##### Your answer ENDS HERE"
   ]
  }
 ],
 "metadata": {
  "anaconda-cloud": {},
  "kernelspec": {
   "display_name": "Python 3.8.6 64-bit",
   "language": "python",
   "name": "python3"
  },
  "language_info": {
   "codemirror_mode": {
    "name": "ipython",
    "version": 3
   },
   "file_extension": ".py",
   "mimetype": "text/x-python",
   "name": "python",
   "nbconvert_exporter": "python",
   "pygments_lexer": "ipython3",
   "version": "3.8.6"
  },
  "vscode": {
   "interpreter": {
    "hash": "c8f9177a0acce8018d23d7772672ff7f2c1807cf103258a4b51e26a443b2e37b"
   }
  }
 },
 "nbformat": 4,
 "nbformat_minor": 1
}
